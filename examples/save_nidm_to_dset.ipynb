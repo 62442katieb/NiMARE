{
 "cells": [
  {
   "cell_type": "markdown",
   "metadata": {},
   "source": [
    "# Save NIDM-Results packs to NiMARE dataset\n",
    "\n",
    "TODO:\n",
    "- Create second dataset with local maxima."
   ]
  },
  {
   "cell_type": "code",
   "execution_count": 1,
   "metadata": {},
   "outputs": [],
   "source": [
    "import json\n",
    "from glob import glob\n",
    "import nibabel as nib\n",
    "import pandas as pd\n",
    "import numpy as np\n",
    "import scipy.ndimage.measurements as meas\n",
    "from os.path import basename, join, isfile"
   ]
  },
  {
   "cell_type": "code",
   "execution_count": 2,
   "metadata": {},
   "outputs": [],
   "source": [
    "f2 = '/Users/tsalo/Documents/tsalo/NiMARE/nimare/tests/data/nidm_pain_dset.json'"
   ]
  },
  {
   "cell_type": "code",
   "execution_count": 3,
   "metadata": {},
   "outputs": [],
   "source": [
    "ddict = {}\n",
    "folders = sorted(glob('/Users/tsalo/Downloads/nidm-pain-results/pain_*.nidm'))\n",
    "for folder in folders:\n",
    "    name = basename(folder)\n",
    "    ddict[name] = {}\n",
    "    ddict[name]['contrasts'] = {}\n",
    "    ddict[name]['contrasts']['1'] = {}\n",
    "    ddict[name]['contrasts']['1']['coords'] = {}\n",
    "    ddict[name]['contrasts']['1']['coords']['space'] = 'MNI'\n",
    "    ddict[name]['contrasts']['1']['images'] = {}\n",
    "    ddict[name]['contrasts']['1']['images']['space'] = 'MNI_2mm'\n",
    "    # con file\n",
    "    files = glob(join(folder, 'Contrast*.nii.gz'))\n",
    "    files = [f for f in files if 'StandardError' not in basename(f)]\n",
    "    if files:\n",
    "        f = sorted(files)[0]\n",
    "    else:\n",
    "        f = None\n",
    "    ddict[name]['contrasts']['1']['images']['con'] = f\n",
    "    # se file\n",
    "    files = glob(join(folder, 'ContrastStandardError*.nii.gz'))\n",
    "    if files:\n",
    "        f = sorted(files)[0]\n",
    "    else:\n",
    "        f = None\n",
    "    ddict[name]['contrasts']['1']['images']['se'] = f\n",
    "    # z file\n",
    "    files = glob(join(folder, 'ZStatistic*.nii.gz'))\n",
    "    if files:\n",
    "        f = sorted(files)[0]\n",
    "    else:\n",
    "        f = None\n",
    "    ddict[name]['contrasts']['1']['images']['z'] = f\n",
    "    # t file\n",
    "    # z file\n",
    "    files = glob(join(folder, 'TStatistic*.nii.gz'))\n",
    "    if files:\n",
    "        f = sorted(files)[0]\n",
    "    else:\n",
    "        f = None\n",
    "    ddict[name]['contrasts']['1']['images']['t'] = f\n",
    "    # sample size\n",
    "    f = join(folder, 'DesignMatrix.csv')\n",
    "    if isfile(f):\n",
    "        df = pd.read_csv(f, header=None)\n",
    "        n = [df.shape[0]]\n",
    "    else:\n",
    "        n = None\n",
    "    ddict[name]['contrasts']['1']['sample_sizes'] = n\n",
    "    # foci\n",
    "    files = glob(join(folder, 'ExcursionSet*.nii.gz'))\n",
    "    f = sorted(files)[0]\n",
    "    img = nib.load(f)\n",
    "    data = np.nan_to_num(img.get_data())\n",
    "    # positive clusters\n",
    "    binarized = np.copy(data)\n",
    "    binarized[binarized>0] = 1\n",
    "    binarized[binarized<0] = 0\n",
    "    binarized = binarized.astype(int)\n",
    "    labeled = meas.label(binarized, np.ones((3, 3, 3)))[0]\n",
    "    clust_ids = sorted(list(np.unique(labeled)[1:]))\n",
    "    ijk = np.hstack([np.where(data * (labeled == c) == np.max(data * (labeled == c))) for c in clust_ids])\n",
    "    ijk = ijk.T\n",
    "    xyz = nib.affines.apply_affine(img.affine, ijk)\n",
    "    ddict[name]['contrasts']['1']['coords']['x'] = list(xyz[:, 0])\n",
    "    ddict[name]['contrasts']['1']['coords']['y'] = list(xyz[:, 1])\n",
    "    ddict[name]['contrasts']['1']['coords']['z'] = list(xyz[:, 2])\n",
    "    "
   ]
  },
  {
   "cell_type": "code",
   "execution_count": 4,
   "metadata": {},
   "outputs": [],
   "source": [
    "with open(f2, 'w') as fo:\n",
    "    json.dump(ddict, fo, sort_keys=True, indent=4)"
   ]
  },
  {
   "cell_type": "code",
   "execution_count": null,
   "metadata": {},
   "outputs": [],
   "source": []
  }
 ],
 "metadata": {
  "kernelspec": {
   "display_name": "Python [conda env:python3]",
   "language": "python",
   "name": "conda-env-python3-py"
  },
  "language_info": {
   "codemirror_mode": {
    "name": "ipython",
    "version": 3
   },
   "file_extension": ".py",
   "mimetype": "text/x-python",
   "name": "python",
   "nbconvert_exporter": "python",
   "pygments_lexer": "ipython3",
   "version": "3.6.4"
  }
 },
 "nbformat": 4,
 "nbformat_minor": 2
}
