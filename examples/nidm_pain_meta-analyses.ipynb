{
 "cells": [
  {
   "cell_type": "markdown",
   "metadata": {},
   "source": [
    "# Run meta-analyses on 21 pain studies\n",
    "Collection of NIDM-Results packs downloaded from Neurovault collection [1425](https://www.neurovault.org/collections/1425/), uploaded by Dr. Camille Maumet."
   ]
  },
  {
   "cell_type": "code",
   "execution_count": null,
   "metadata": {},
   "outputs": [],
   "source": [
    "%matplotlib inline\n",
    "import json\n",
    "import numpy as np\n",
    "from glob import glob\n",
    "from os.path import basename, join, dirname, isfile\n",
    "import urllib.request\n",
    "import os\n",
    "\n",
    "import pandas as pd\n",
    "import nibabel as nib\n",
    "from scipy.stats import t\n",
    "from nilearn.masking import apply_mask\n",
    "from nilearn.plotting import plot_stat_map\n",
    "\n",
    "import nimare\n",
    "from nimare.meta.ibma import (stouffers, fishers, weighted_stouffers,\n",
    "                              rfx_glm, ffx_glm)"
   ]
  },
  {
   "cell_type": "code",
   "execution_count": null,
   "metadata": {},
   "outputs": [],
   "source": [
    "url = \"https://raw.githubusercontent.com/tsalo/NiMARE/coco2019/download_test_data.py\"\n",
    "u = urllib.request.urlopen(url)\n",
    "data = u.read()\n",
    "u.close()\n",
    "\n",
    "# write python to file\n",
    "with open(\"download_test_data.py\", \"wb\") as f:\n",
    "    f.write(data)\n",
    "\n",
    "# download the requisite data\n",
    "from download_test_data import download_dataset\n",
    "download_dataset()"
   ]
  },
  {
   "cell_type": "code",
   "execution_count": null,
   "metadata": {},
   "outputs": [],
   "source": [
    "dset_file = join(dirname(nimare.__file__), 'tests', 'data', 'nidm_pain_dset.json')\n",
    "with open(dset_file, 'r') as fo:\n",
    "    dset_dict = json.load(fo)\n",
    "db = nimare.dataset.Database(dset_file)\n",
    "dset = db.get_dataset()\n",
    "\n",
    "mask_img = dset.mask\n",
    "\n",
    "logp_thresh = -np.log(.05)"
   ]
  },
  {
   "cell_type": "markdown",
   "metadata": {},
   "source": [
    "## Define functions for querying set of NIDM-Results packs"
   ]
  },
  {
   "cell_type": "code",
   "execution_count": null,
   "metadata": {},
   "outputs": [],
   "source": [
    "def _get_file(cdict, t):\n",
    "    \"\"\"Return the file associated with a given data type within a\n",
    "    folder if it exists. Otherwise, returns an empty list.\n",
    "    \"\"\"\n",
    "    temp = ''\n",
    "    if t == 'con':\n",
    "        temp = cdict['images'].get('con')\n",
    "    elif t == 'se':\n",
    "        temp = cdict['images'].get('se')\n",
    "    elif t == 't':\n",
    "        temp = cdict['images'].get('t')\n",
    "    elif t == 'z':\n",
    "        temp = cdict['images'].get('z')\n",
    "    elif t == 'n':\n",
    "        temp = cdict.get('sample_sizes', [])\n",
    "        if temp:\n",
    "            temp = np.mean(temp)\n",
    "    else:\n",
    "        raise Exception('Input type \"{0}\" not recognized.'.format(t))\n",
    "\n",
    "    return temp\n",
    "\n",
    "\n",
    "def get_files(ddict, types):\n",
    "    \"\"\"Returns a list of files associated with a given data type \n",
    "    from a set of subfolders within a directory. Allows for\n",
    "    multiple data types and only returns a set of files from folders\n",
    "    with all of the requested types.\n",
    "    \"\"\"\n",
    "    all_files = []\n",
    "    for study in ddict.keys():\n",
    "        files = []\n",
    "        cdict = ddict[study]['contrasts']['1']\n",
    "        for t in types:\n",
    "            temp = _get_file(cdict, t)\n",
    "            if temp:\n",
    "                files.append(temp)\n",
    "            \n",
    "        if len(files) == len(types):\n",
    "            all_files.append(files)\n",
    "    all_files = list(map(list, zip(*all_files)))\n",
    "    return all_files"
   ]
  },
  {
   "cell_type": "markdown",
   "metadata": {},
   "source": [
    "## Get z-maps"
   ]
  },
  {
   "cell_type": "code",
   "execution_count": null,
   "metadata": {},
   "outputs": [],
   "source": [
    "files = get_files(dset_dict, ['z'])\n",
    "z_imgs = [nib.load(join(dirname(nimare.__file__), f)) for f in files[0]]\n",
    "z_data = apply_mask(z_imgs, mask_img)\n",
    "print('{0} studies found.'.format(z_data.shape[0]))"
   ]
  },
  {
   "cell_type": "markdown",
   "metadata": {},
   "source": [
    "## Fisher's"
   ]
  },
  {
   "cell_type": "code",
   "execution_count": null,
   "metadata": {},
   "outputs": [],
   "source": [
    "%%time\n",
    "result = fishers(z_data, mask_img)\n",
    "plot_stat_map(result.images['log_p'], threshold=logp_thresh,\n",
    "              cut_coords=[0, 0, -8], draw_cross=False,\n",
    "              cmap='RdBu_r')"
   ]
  },
  {
   "cell_type": "markdown",
   "metadata": {},
   "source": [
    "## Stouffer's"
   ]
  },
  {
   "cell_type": "markdown",
   "metadata": {},
   "source": [
    "### Fixed-effects inference"
   ]
  },
  {
   "cell_type": "code",
   "execution_count": null,
   "metadata": {},
   "outputs": [],
   "source": [
    "%%time\n",
    "result = stouffers(z_data, mask_img, inference='ffx',\n",
    "                   null='theoretical', n_iters=None)\n",
    "plot_stat_map(result.images['log_p'], threshold=logp_thresh,\n",
    "              cut_coords=[0, 0, -8], draw_cross=False,\n",
    "              cmap='RdBu_r')"
   ]
  },
  {
   "cell_type": "markdown",
   "metadata": {},
   "source": [
    "### Random-effects inference with theoretical null distribution"
   ]
  },
  {
   "cell_type": "code",
   "execution_count": null,
   "metadata": {},
   "outputs": [],
   "source": [
    "%%time\n",
    "result = stouffers(z_data, mask_img, inference='rfx',\n",
    "                   null='theoretical', n_iters=None)\n",
    "plot_stat_map(result.images['log_p'], threshold=logp_thresh,\n",
    "              cut_coords=[0, 0, -8], draw_cross=False,\n",
    "              cmap='RdBu_r')"
   ]
  },
  {
   "cell_type": "markdown",
   "metadata": {},
   "source": [
    "### Random-effects inference with empirical null distribution"
   ]
  },
  {
   "cell_type": "code",
   "execution_count": null,
   "metadata": {},
   "outputs": [],
   "source": [
    "%%time\n",
    "result = stouffers(z_data, mask_img, inference='rfx',\n",
    "                   null='empirical', n_iters=1000)\n",
    "plot_stat_map(result.images['log_p'], threshold=logp_thresh,\n",
    "              cut_coords=[0, 0, -8], draw_cross=False,\n",
    "              cmap='RdBu_r')"
   ]
  },
  {
   "cell_type": "markdown",
   "metadata": {},
   "source": [
    "## Get z-maps + sample sizes"
   ]
  },
  {
   "cell_type": "code",
   "execution_count": null,
   "metadata": {},
   "outputs": [],
   "source": [
    "z_files, ns = get_files(dset_dict, ['z', 'n'])\n",
    "z_imgs = [nib.load(join(dirname(nimare.__file__), f)) for f in z_files]\n",
    "z_data = apply_mask(z_imgs, mask_img)\n",
    "sample_sizes = np.array(ns)\n",
    "print('{0} studies found.'.format(z_data.shape[0]))"
   ]
  },
  {
   "cell_type": "markdown",
   "metadata": {},
   "source": [
    "## Weighted Stouffer's"
   ]
  },
  {
   "cell_type": "code",
   "execution_count": null,
   "metadata": {},
   "outputs": [],
   "source": [
    "%%time\n",
    "result = weighted_stouffers(z_data, sample_sizes, mask_img)\n",
    "plot_stat_map(result.images['log_p'], threshold=logp_thresh,\n",
    "              cut_coords=[0, 0, -8], draw_cross=False,\n",
    "              cmap='RdBu_r')"
   ]
  },
  {
   "cell_type": "markdown",
   "metadata": {},
   "source": [
    "## Get contrast maps + contrast standard error maps + sample sizes"
   ]
  },
  {
   "cell_type": "code",
   "execution_count": null,
   "metadata": {},
   "outputs": [],
   "source": [
    "con_files, se_files, ns = get_files(dset_dict, ['con', 'se', 'n'])\n",
    "con_imgs = [nib.load(join(dirname(nimare.__file__), f)) for f in con_files]\n",
    "se_imgs = [nib.load(join(dirname(nimare.__file__), f)) for f in se_files]\n",
    "con_data = apply_mask(con_imgs, mask_img)\n",
    "se_data = apply_mask(se_imgs, mask_img)\n",
    "sample_sizes = np.array(ns)\n",
    "print('{0} studies found.'.format(con_data.shape[0]))"
   ]
  },
  {
   "cell_type": "markdown",
   "metadata": {},
   "source": [
    "## FFX GLM"
   ]
  },
  {
   "cell_type": "code",
   "execution_count": null,
   "metadata": {},
   "outputs": [],
   "source": [
    "%%time\n",
    "result = ffx_glm(con_data, se_data, sample_sizes, mask_img)\n",
    "plot_stat_map(result.images['log_p'], threshold=logp_thresh,\n",
    "              cut_coords=[0, 0, -8], draw_cross=False,\n",
    "              cmap='RdBu_r')"
   ]
  },
  {
   "cell_type": "markdown",
   "metadata": {},
   "source": [
    "## Get contrast maps"
   ]
  },
  {
   "cell_type": "code",
   "execution_count": null,
   "metadata": {},
   "outputs": [],
   "source": [
    "con_files = get_files(dset_dict, ['con'])\n",
    "con_files = con_files[0]\n",
    "con_imgs = [nib.load(join(dirname(nimare.__file__), f)) for f in con_files]\n",
    "con_data = apply_mask(con_imgs, mask_img)\n",
    "print('{0} studies found.'.format(con_data.shape[0]))"
   ]
  },
  {
   "cell_type": "markdown",
   "metadata": {},
   "source": [
    "## RFX GLM"
   ]
  },
  {
   "cell_type": "markdown",
   "metadata": {},
   "source": [
    "### Theoretical null distribution"
   ]
  },
  {
   "cell_type": "code",
   "execution_count": null,
   "metadata": {},
   "outputs": [],
   "source": [
    "%%time\n",
    "result = rfx_glm(con_data, mask_img, null='theoretical', n_iters=None)\n",
    "plot_stat_map(result.images['log_p'], threshold=logp_thresh,\n",
    "              cut_coords=[0, 0, -8], draw_cross=False,\n",
    "              cmap='RdBu_r')"
   ]
  },
  {
   "cell_type": "markdown",
   "metadata": {},
   "source": [
    "### Empirical null distribution"
   ]
  },
  {
   "cell_type": "code",
   "execution_count": null,
   "metadata": {},
   "outputs": [],
   "source": [
    "%%time\n",
    "result = rfx_glm(con_data, mask_img, null='empirical', n_iters=1000)\n",
    "plot_stat_map(result.images['log_p'], threshold=logp_thresh,\n",
    "              cut_coords=[0, 0, -8], draw_cross=False,\n",
    "              cmap='RdBu_r')"
   ]
  },
  {
   "cell_type": "markdown",
   "metadata": {},
   "source": [
    "## MKDA"
   ]
  },
  {
   "cell_type": "markdown",
   "metadata": {},
   "source": [
    "### Density analysis"
   ]
  },
  {
   "cell_type": "code",
   "execution_count": null,
   "metadata": {
    "scrolled": true
   },
   "outputs": [],
   "source": [
    "%%time\n",
    "mkda = nimare.meta.cbma.MKDADensity(dset, kernel__r=10)\n",
    "mkda.fit(n_iters=10, ids=dset.ids)\n",
    "plot_stat_map(mkda.results.images['vfwe'], cut_coords=[0, 0, -8],\n",
    "              draw_cross=False, cmap='RdBu_r')"
   ]
  },
  {
   "cell_type": "markdown",
   "metadata": {},
   "source": [
    "### Chi2 with FDR correction"
   ]
  },
  {
   "cell_type": "code",
   "execution_count": null,
   "metadata": {},
   "outputs": [],
   "source": [
    "%%time\n",
    "mkda2 = nimare.meta.cbma.MKDAChi2(dset, kernel__r=10)\n",
    "mkda2.fit(corr='FDR', ids=dset.ids, ids2=dset.ids)\n",
    "plot_stat_map(mkda2.results.images['pAgF_z_FDR_05'], cut_coords=[0, 0, -8],\n",
    "              draw_cross=False, cmap='RdBu_r')"
   ]
  },
  {
   "cell_type": "markdown",
   "metadata": {},
   "source": [
    "### Chi2 with FWE correction"
   ]
  },
  {
   "cell_type": "code",
   "execution_count": null,
   "metadata": {},
   "outputs": [],
   "source": [
    "%%time\n",
    "mkda3 = nimare.meta.cbma.MKDAChi2(dset, ids=dset.ids, ids2=dset.ids, kernel__r=10)\n",
    "mkda3.fit(corr='FWE', n_iters=10)\n",
    "plot_stat_map(mkda3.results.images['pAgF_z_FWE_05'], cut_coords=[0, 0, -8],\n",
    "              draw_cross=False, cmap='RdBu_r')"
   ]
  },
  {
   "cell_type": "markdown",
   "metadata": {},
   "source": [
    "## KDA"
   ]
  },
  {
   "cell_type": "code",
   "execution_count": null,
   "metadata": {},
   "outputs": [],
   "source": [
    "%%time\n",
    "kda = nimare.meta.cbma.KDA(dset, kernel__r=10)\n",
    "kda.fit(n_iters=10, ids=dset.ids)\n",
    "plot_stat_map(kda.results.images['vfwe'], cut_coords=[0, 0, -8],\n",
    "              draw_cross=False, cmap='RdBu_r')"
   ]
  },
  {
   "cell_type": "markdown",
   "metadata": {},
   "source": [
    "## ALE"
   ]
  },
  {
   "cell_type": "code",
   "execution_count": null,
   "metadata": {},
   "outputs": [],
   "source": [
    "%%time\n",
    "ale = nimare.meta.cbma.ALE(dset, ids=dset.ids)\n",
    "ale.fit(n_iters=10, ids=dset.ids)\n",
    "plot_stat_map(ale.results.images['cfwe'], cut_coords=[0, 0, -8],\n",
    "              draw_cross=False, cmap='RdBu_r')"
   ]
  },
  {
   "cell_type": "markdown",
   "metadata": {},
   "source": [
    "## SCALE"
   ]
  },
  {
   "cell_type": "code",
   "execution_count": null,
   "metadata": {},
   "outputs": [],
   "source": [
    "%%time\n",
    "ijk = np.vstack(np.where(dset.mask.get_data())).T\n",
    "scale = nimare.meta.cbma.SCALE(dset, ijk=ijk)\n",
    "scale.fit(n_iters=10, ids=dset.ids)\n",
    "plot_stat_map(scale.results.images['vthresh'], cut_coords=[0, 0, -8],\n",
    "              draw_cross=False, cmap='RdBu_r')"
   ]
  }
 ],
 "metadata": {
  "kernelspec": {
   "display_name": "Python [conda env:nimare_dev]",
   "language": "python",
   "name": "conda-env-nimare_dev-py"
  },
  "language_info": {
   "codemirror_mode": {
    "name": "ipython",
    "version": 3
   },
   "file_extension": ".py",
   "mimetype": "text/x-python",
   "name": "python",
   "nbconvert_exporter": "python",
   "pygments_lexer": "ipython3",
   "version": "3.7.2"
  }
 },
 "nbformat": 4,
 "nbformat_minor": 2
}
